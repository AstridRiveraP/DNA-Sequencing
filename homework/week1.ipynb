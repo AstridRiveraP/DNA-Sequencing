{
 "cells": [
  {
   "cell_type": "code",
   "execution_count": 1,
   "metadata": {},
   "outputs": [],
   "source": [
    "import sys\n",
    "sys.path.insert(0, 'src')\n",
    "from read_genome import *\n",
    "\n",
    "def naive(p, t):\n",
    "    occurrences = []\n",
    "    for i in range(len(t) - len(p) + 1):  # loop over alignments\n",
    "        match = True\n",
    "        for j in range(len(p)):  # loop over characters\n",
    "            if t[i+j] != p[j]:  # compare characters\n",
    "                match = False\n",
    "                break\n",
    "        if match:\n",
    "            occurrences.append(i)  # all chars matched; record\n",
    "    return occurrences"
   ]
  },
  {
   "cell_type": "code",
   "execution_count": 2,
   "metadata": {},
   "outputs": [],
   "source": [
    "def reverseComplement(s):\n",
    "    complement = {'A': 'T', 'C': 'G', 'G': 'C', 'T': 'A', 'N': 'N'}\n",
    "    t = ''\n",
    "    for base in s:\n",
    "        t = complement[base] + t\n",
    "    return t\n"
   ]
  },
  {
   "cell_type": "code",
   "execution_count": 3,
   "metadata": {},
   "outputs": [],
   "source": [
    "def naiveWithRC(p,t):\n",
    "    occ = naive(p, t)\n",
    "    p_rc = reverseComplement(p)\n",
    "    if p != p_rc:\n",
    "        occ.extend(naive(p_rc,t))\n",
    "    return occ"
   ]
  },
  {
   "cell_type": "code",
   "execution_count": 4,
   "metadata": {},
   "outputs": [
    {
     "name": "stdout",
     "output_type": "stream",
     "text": [
      "--2024-10-24 10:44:16--  https://d28rh4a8wq0iu5.cloudfront.net/ads1/data/lambda_virus.fa\n",
      "Resolving d28rh4a8wq0iu5.cloudfront.net (d28rh4a8wq0iu5.cloudfront.net)... 143.204.154.95, 143.204.154.225, 143.204.154.101, ...\n",
      "Connecting to d28rh4a8wq0iu5.cloudfront.net (d28rh4a8wq0iu5.cloudfront.net)|143.204.154.95|:443... connected.\n",
      "HTTP request sent, awaiting response... 200 OK\n",
      "Length: 49270 (48K) [application/octet-stream]\n",
      "Saving to: ‘resources/lambda_virus.fa.1’\n",
      "\n",
      "lambda_virus.fa.1   100%[===================>]  48.12K   303KB/s    in 0.2s    \n",
      "\n",
      "2024-10-24 10:44:17 (303 KB/s) - ‘resources/lambda_virus.fa.1’ saved [49270/49270]\n",
      "\n"
     ]
    }
   ],
   "source": [
    "!wget --no-check -P resources/ https://d28rh4a8wq0iu5.cloudfront.net/ads1/data/lambda_virus.fa\n"
   ]
  },
  {
   "cell_type": "code",
   "execution_count": 5,
   "metadata": {},
   "outputs": [],
   "source": [
    "genome = readFasta(\"resources/lambda_virus.fa\")"
   ]
  },
  {
   "cell_type": "markdown",
   "metadata": {},
   "source": [
    "Q1 How many times does AGGT or its reverse complement (ACCT) occur in the lambda virus genome?\n",
    "E.g. if AGGT occurs 10 times and ACCT occurs 12 times, you should report 22."
   ]
  },
  {
   "cell_type": "code",
   "execution_count": 6,
   "metadata": {},
   "outputs": [
    {
     "data": {
      "text/plain": [
       "306"
      ]
     },
     "execution_count": 6,
     "metadata": {},
     "output_type": "execute_result"
    }
   ],
   "source": [
    "len(naive('AGGT', genome)) + len(naive('ACCT', genome))"
   ]
  },
  {
   "cell_type": "markdown",
   "metadata": {},
   "source": [
    "Q2 How many times does TTAA or its reverse complement occur in the labda virus genome?\n",
    "Hint: TTAA and its reverse complement are equal, so remember to not double count"
   ]
  },
  {
   "cell_type": "code",
   "execution_count": 7,
   "metadata": {},
   "outputs": [
    {
     "data": {
      "text/plain": [
       "195"
      ]
     },
     "execution_count": 7,
     "metadata": {},
     "output_type": "execute_result"
    }
   ],
   "source": [
    "len(naive('TTAA', genome))"
   ]
  },
  {
   "cell_type": "markdown",
   "metadata": {},
   "source": [
    "Q3 What is the offset of the leftmost occurrence of ACTAAGT or its reverse complement\n",
    "in the Lambda virus genome? E.g. if the leftmost occurrence of ACTAAGT is at offset 40 (0-based)\n",
    "and the leftmost occurrence of its reverse complement ACTTAGT is at offset 29, then report 29.'''\n"
   ]
  },
  {
   "cell_type": "code",
   "execution_count": 8,
   "metadata": {},
   "outputs": [
    {
     "data": {
      "text/plain": [
       "26028"
      ]
     },
     "execution_count": 8,
     "metadata": {},
     "output_type": "execute_result"
    }
   ],
   "source": [
    "pattern = 'ACTAAGT'\n",
    "min(naiveWithRC(pattern,genome))"
   ]
  },
  {
   "cell_type": "markdown",
   "metadata": {},
   "source": [
    "Q4 What is the offset of the leftmost occurrence of AGTCGA or its reverse complement\n",
    "in the Lambda virus genome?"
   ]
  },
  {
   "cell_type": "code",
   "execution_count": 9,
   "metadata": {},
   "outputs": [
    {
     "data": {
      "text/plain": [
       "450"
      ]
     },
     "execution_count": 9,
     "metadata": {},
     "output_type": "execute_result"
    }
   ],
   "source": [
    "pattern = 'AGTCGA'\n",
    "#alternative method to the one above\n",
    "\n",
    "min(naiveWithRC(pattern, genome))"
   ]
  },
  {
   "cell_type": "markdown",
   "metadata": {},
   "source": [
    "Q5 As we will discuss, sometimes we would like to find approximate matches for P in T.\n",
    "That is, we want to find occurrences with one or more differences.\n",
    "\n",
    "For Questions 5 and 6, make a new version of the naive function called naive_2mm\n",
    "that allows up to 2 mismatches per occurrence. Unlike for the previous questions,\n",
    "do not consider the reverse complement here. We're looking for approximate matches for P itself,\n",
    "not its reverse complement.\n",
    "\n",
    "For example, ACTTTA occurs twice in ACTTACTTGATAAAGT, once at offset 0 with 2 mismatches,\n",
    "and once at offset 4 with 1 mismatch. So naive_2mm(’ACTTTA’,’ACTTACTTGATAAAGT’)\n",
    "should return the list [0,4].\n",
    "\n",
    "How many times does TTCAAGCC occur in the Lambda virus genome when allowing up to 2 mismatches?'''\n"
   ]
  },
  {
   "cell_type": "code",
   "execution_count": 10,
   "metadata": {},
   "outputs": [],
   "source": [
    "def naive_2mm(p, t):\n",
    "    occurrences = []\n",
    "    for i in range(len(t) - len(p) + 1):  # loop over alignments\n",
    "        match = True\n",
    "        mismatches = 0\n",
    "        for j in range(len(p)):  # loop over characters\n",
    "            if t[i+j] != p[j]:  # compare characters\n",
    "                mismatches += 1\n",
    "                if mismatches > 2:\n",
    "                    match = False\n",
    "                    break\n",
    "\n",
    "        if match:\n",
    "            occurrences.append(i)  # all chars matched; record\n",
    "    return occurrences"
   ]
  },
  {
   "cell_type": "code",
   "execution_count": 11,
   "metadata": {},
   "outputs": [
    {
     "data": {
      "text/plain": [
       "[0, 4]"
      ]
     },
     "execution_count": 11,
     "metadata": {},
     "output_type": "execute_result"
    }
   ],
   "source": [
    "pattern = 'ACTTA'\n",
    "text = 'ACTTACTTGATAAAGT'\n",
    "naive_2mm(pattern, text)"
   ]
  },
  {
   "cell_type": "code",
   "execution_count": 12,
   "metadata": {},
   "outputs": [
    {
     "data": {
      "text/plain": [
       "191"
      ]
     },
     "execution_count": 12,
     "metadata": {},
     "output_type": "execute_result"
    }
   ],
   "source": [
    "len(naive_2mm('TTCAAGCC', genome))"
   ]
  },
  {
   "cell_type": "markdown",
   "metadata": {},
   "source": [
    "Q6 What is the offset of the leftmost occurrence of AGGAGGTT\n",
    "in the Lambda virus genome when allowing up to 2 mismatches?"
   ]
  },
  {
   "cell_type": "code",
   "execution_count": 13,
   "metadata": {},
   "outputs": [
    {
     "data": {
      "text/plain": [
       "49"
      ]
     },
     "execution_count": 13,
     "metadata": {},
     "output_type": "execute_result"
    }
   ],
   "source": [
    "min(naive_2mm('AGGAGGTT', genome))"
   ]
  },
  {
   "cell_type": "markdown",
   "metadata": {},
   "source": [
    "Q7 Finally, download and parse the provided FASTQ file containing real DNA sequencing reads\n",
    "derived from a human:\n",
    "\n",
    "https://d28rh4a8wq0iu5.cloudfront.net/ads1/data/ERR037900_1.first1000.fastq\n",
    "\n",
    "Note that the file has many reads in it and you should examine all of them together when answering this question.\n",
    "The reads are taken from this study:\n",
    "\n",
    "Ajay, S. S., Parker, S. C., Abaan, H. O., Fajardo, K. V. F., & Margulies, E. H. (2011). Accurate\n",
    "\n",
    "and comprehensive sequencing of personal genomes. Genome research, 21(9), 1498-1505.\n",
    "\n",
    "This dataset has something wrong with it; one of the sequencing cycles is poor quality.\n",
    "\n",
    "Report which sequencing cycle has the problem. Remember that a sequencing cycle corresponds\n",
    "to a particular offset in all the reads. For example, if the leftmost read position seems\n",
    "to have a problem consistently across reads, report 0. If the fourth position from the left has the problem,\n",
    "report 3. Do whatever analysis you think is needed to identify the bad cycle.\n",
    "It might help to review the \"Analyzing reads by position\" video."
   ]
  },
  {
   "cell_type": "code",
   "execution_count": 14,
   "metadata": {},
   "outputs": [
    {
     "name": "stdout",
     "output_type": "stream",
     "text": [
      "--2024-10-24 10:44:45--  https://d28rh4a8wq0iu5.cloudfront.net/ads1/data/ERR037900_1.first1000.fastq\n",
      "Resolving d28rh4a8wq0iu5.cloudfront.net (d28rh4a8wq0iu5.cloudfront.net)... 143.204.154.167, 143.204.154.101, 143.204.154.225, ...\n",
      "Connecting to d28rh4a8wq0iu5.cloudfront.net (d28rh4a8wq0iu5.cloudfront.net)|143.204.154.167|:443... connected.\n",
      "HTTP request sent, awaiting response... 200 OK\n",
      "Length: 241626 (236K) [application/octet-stream]\n",
      "Saving to: ‘resources/ERR037900_1.first1000.fastq.1’\n",
      "\n",
      "ERR037900_1.first10 100%[===================>] 235.96K   510KB/s    in 0.5s    \n",
      "\n",
      "2024-10-24 10:44:46 (510 KB/s) - ‘resources/ERR037900_1.first1000.fastq.1’ saved [241626/241626]\n",
      "\n"
     ]
    }
   ],
   "source": [
    "!wget -P resources/ https://d28rh4a8wq0iu5.cloudfront.net/ads1/data/ERR037900_1.first1000.fastq\n"
   ]
  },
  {
   "cell_type": "code",
   "execution_count": 15,
   "metadata": {},
   "outputs": [],
   "source": [
    "reads, qualities = readFastq('resources/ERR037900_1.first1000.fastq')\n",
    "assert(len(reads) ==  len(qualities))"
   ]
  },
  {
   "cell_type": "code",
   "execution_count": 17,
   "metadata": {},
   "outputs": [
    {
     "name": "stdout",
     "output_type": "stream",
     "text": [
      "[0, 0, 17723, 0, 2, 11, 11, 28, 23, 55, 100, 111, 86, 174, 185, 272, 317, 259, 390, 1523, 2782, 762, 286, 413, 403, 538, 351, 694, 971, 777, 1024, 1449, 1341, 1312, 1916, 2233, 3025, 4043, 6640, 45696, 2074, 0, 0, 0, 0, 0, 0, 0, 0, 0]\n"
     ]
    }
   ],
   "source": [
    "def phred33ToQ(qual):\n",
    "    return ord(qual) - 33 # converts integer to character according to ASCII table\n",
    "\n",
    "def createHistory(qualities):\n",
    "    history = [0] * 50\n",
    "    for qual in qualities:\n",
    "        for phred in qual:\n",
    "            q = phred33ToQ(phred)\n",
    "            history[q] += 1\n",
    "    return history\n",
    "h = createHistory(qualities)\n",
    "print(h)"
   ]
  },
  {
   "cell_type": "code",
   "execution_count": 18,
   "metadata": {},
   "outputs": [
    {
     "data": {
      "image/png": "[encoded data removed]",
      "text/plain": [
       "<Figure size 640x480 with 1 Axes>"
      ]
     },
     "metadata": {},
     "output_type": "display_data"
    }
   ],
   "source": [
    "import matplotlib.pyplot as plt\n",
    "plt.bar(range(len(h)), h)\n",
    "plt.show()"
   ]
  },
  {
   "cell_type": "code",
   "execution_count": 19,
   "metadata": {},
   "outputs": [
    {
     "data": {
      "text/plain": [
       "Counter({66: 629,\n",
       "         65: 99,\n",
       "         60: 36,\n",
       "         64: 28,\n",
       "         55: 22,\n",
       "         50: 15,\n",
       "         52: 10,\n",
       "         59: 9,\n",
       "         54: 8,\n",
       "         62: 8,\n",
       "         85: 7,\n",
       "         49: 5,\n",
       "         44: 5,\n",
       "         90: 5,\n",
       "         74: 4,\n",
       "         63: 4,\n",
       "         58: 4,\n",
       "         80: 4,\n",
       "         39: 4,\n",
       "         45: 4,\n",
       "         70: 4,\n",
       "         75: 4,\n",
       "         56: 4,\n",
       "         57: 3,\n",
       "         69: 3,\n",
       "         35: 3,\n",
       "         53: 3,\n",
       "         40: 3,\n",
       "         47: 3,\n",
       "         84: 3,\n",
       "         46: 2,\n",
       "         68: 2,\n",
       "         73: 2,\n",
       "         78: 2,\n",
       "         89: 2,\n",
       "         61: 2,\n",
       "         88: 2,\n",
       "         94: 2,\n",
       "         95: 2,\n",
       "         77: 1,\n",
       "         81: 1,\n",
       "         92: 1,\n",
       "         43: 1,\n",
       "         67: 1,\n",
       "         33: 1,\n",
       "         98: 1,\n",
       "         34: 1,\n",
       "         48: 1,\n",
       "         91: 1,\n",
       "         51: 1,\n",
       "         86: 1,\n",
       "         97: 1,\n",
       "         82: 1,\n",
       "         38: 1})"
      ]
     },
     "execution_count": 19,
     "metadata": {},
     "output_type": "execute_result"
    }
   ],
   "source": [
    "#we want to know which positions have something wrong\n",
    "import collections\n",
    "low_quality = []\n",
    "for quality in qualities:\n",
    "    for idx, q in enumerate(quality):\n",
    "        if phred33ToQ(q) == 2:\n",
    "            low_quality.append(idx)\n",
    "            break\n",
    "\n",
    "collections.Counter(low_quality)\n",
    "\n"
   ]
  },
  {
   "cell_type": "markdown",
   "metadata": {},
   "source": [
    "Q7 ans -> 66"
   ]
  }
 ],
 "metadata": {
  "kernelspec": {
   "display_name": "coursera",
   "language": "python",
   "name": "python3"
  },
  "language_info": {
   "codemirror_mode": {
    "name": "ipython",
    "version": 3
   },
   "file_extension": ".py",
   "mimetype": "text/x-python",
   "name": "python",
   "nbconvert_exporter": "python",
   "pygments_lexer": "ipython3",
   "version": "3.10.15"
  }
 },
 "nbformat": 4,
 "nbformat_minor": 2
}
