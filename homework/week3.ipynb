{
 "cells": [
  {
   "cell_type": "code",
   "execution_count": 4,
   "metadata": {},
   "outputs": [],
   "source": [
    "import sys\n",
    "sys.path.insert(0, 'src')\n",
    "from read_genome import *"
   ]
  },
  {
   "cell_type": "code",
   "execution_count": 35,
   "metadata": {},
   "outputs": [
    {
     "name": "stdout",
     "output_type": "stream",
     "text": [
      "--2024-10-25 08:39:51--  https://d28rh4a8wq0iu5.cloudfront.net/ads1/data/chr1.GRCh38.excerpt.fasta\n",
      "Resolving d28rh4a8wq0iu5.cloudfront.net (d28rh4a8wq0iu5.cloudfront.net)... 99.86.66.215, 99.86.66.100, 99.86.66.61, ...\n",
      "Connecting to d28rh4a8wq0iu5.cloudfront.net (d28rh4a8wq0iu5.cloudfront.net)|99.86.66.215|:443... connected.\n",
      "HTTP request sent, awaiting response... 200 OK\n",
      "Length: 810105 (791K) [application/octet-stream]\n",
      "Saving to: ‘resources/excerpt2.fasta’\n",
      "\n",
      "resources/excerpt2. 100%[===================>] 791.12K  1.92MB/s    in 0.4s    \n",
      "\n",
      "2024-10-25 08:39:53 (1.92 MB/s) - ‘resources/excerpt2.fasta’ saved [810105/810105]\n",
      "\n"
     ]
    }
   ],
   "source": [
    "!wget -O resources/excerpt2.fasta https://d28rh4a8wq0iu5.cloudfront.net/ads1/data/chr1.GRCh38.excerpt.fasta"
   ]
  },
  {
   "cell_type": "code",
   "execution_count": 56,
   "metadata": {},
   "outputs": [],
   "source": [
    "def editDistance(x, y):\n",
    "    # Create distance matrix\n",
    "    D = []\n",
    "    for i in range(len(x)+1):\n",
    "        D.append([0]*(len(y)+1))\n",
    "    # Initialize first row and column of matrix\n",
    "    for i in range(len(x)+1):\n",
    "        D[i][0] = i\n",
    "    for i in range(len(y)+1):\n",
    "        D[0][i] = i\n",
    "    # Fill in the rest of the matrix\n",
    "    for i in range(1, len(x)+1):\n",
    "        for j in range(1, len(y)+1):\n",
    "            distHor = D[i][j-1] + 1\n",
    "            distVer = D[i-1][j] + 1\n",
    "            if x[i-1] == y[j-1]:\n",
    "                distDiag = D[i-1][j-1]\n",
    "            else:\n",
    "                distDiag = D[i-1][j-1] + 1\n",
    "            D[i][j] = min(distHor, distVer, distDiag)\n",
    "    # Edit distance is the value in the bottom right corner of the matrix\n",
    "    return D[-1][-1]\n",
    "\n",
    "def localAlignment(x, y):\n",
    "    # Create distance matrix\n",
    "    m, n = len(x), len(y)\n",
    "    #fist row with only 0's\n",
    "    D = [[0]*(n + 1) for _ in range(m + 1)]\n",
    "  \n",
    "    # Initialize first column \n",
    "    for i in range(m+1):\n",
    "        D[i][0] = i\n",
    " \n",
    "    # Fill in the rest of the matrix\n",
    "    for i in range(1, m + 1):\n",
    "        for j in range(1, n + 1):\n",
    "            distHor = D[i][j-1] + 1\n",
    "            distVer = D[i-1][j] + 1\n",
    "            distDiag = D[i-1][j-1] + (x[i-1] != y[j-1])\n",
    "            D[i][j] = min(distHor, distVer, distDiag)\n",
    "    # Edit distance is the minimum value of the last row\n",
    "    return min(D[m])"
   ]
  },
  {
   "cell_type": "code",
   "execution_count": 61,
   "metadata": {},
   "outputs": [],
   "source": [
    "human_genome = readFasta(\"resources/excerpt2.fasta\")"
   ]
  },
  {
   "cell_type": "markdown",
   "metadata": {},
   "source": [
    "Q1. What is the edit distance of the best match between pattern GCTGATCGATCGTACG and the excerpt of human chromosome 1? (Don't consider reverse complements.)"
   ]
  },
  {
   "cell_type": "code",
   "execution_count": 72,
   "metadata": {},
   "outputs": [
    {
     "data": {
      "text/plain": [
       "3"
      ]
     },
     "execution_count": 72,
     "metadata": {},
     "output_type": "execute_result"
    }
   ],
   "source": [
    "t = human_genome\n",
    "p = 'GCTGATCGATCGTACG'\n",
    "localAlignment(p, t)"
   ]
  },
  {
   "cell_type": "markdown",
   "metadata": {},
   "source": [
    "Q2. What is the edit distance of the best match between pattern GATTTACCAGATTGAG and the excerpt of human chromosome 1?"
   ]
  },
  {
   "cell_type": "code",
   "execution_count": 71,
   "metadata": {},
   "outputs": [
    {
     "data": {
      "text/plain": [
       "2"
      ]
     },
     "execution_count": 71,
     "metadata": {},
     "output_type": "execute_result"
    }
   ],
   "source": [
    "t = human_genome\n",
    "p = 'GATTTACCAGATTGAG'\n",
    "localAlignment(p, t)"
   ]
  },
  {
   "cell_type": "markdown",
   "metadata": {},
   "source": [
    "Q3. In a practical, we saw a function for finding the longest exact overlap (suffix/prefix match)\n",
    "between two strings. The function is copied below."
   ]
  },
  {
   "cell_type": "code",
   "execution_count": 78,
   "metadata": {},
   "outputs": [],
   "source": [
    "def overlap(a, b, min_length=3):\n",
    "    \"\"\" Return length of longest suffix of 'a' matching\n",
    "        a prefix of 'b' that is at least 'min_length'\n",
    "        characters long.  If no such overlap exists,\n",
    "        return 0. \"\"\"\n",
    "    start = 0  # start all the way at the left\n",
    "    while True:\n",
    "        start = a.find(b[:min_length], start)  # look for b's prefix in a\n",
    "        if start == -1:  # no more occurrences to right\n",
    "            return 0\n",
    "        # found occurrence; check for full suffix/prefix match\n",
    "        if b.startswith(a[start:]):\n",
    "            return len(a)-start\n",
    "        start += 1  # move just past previous match"
   ]
  },
  {
   "cell_type": "markdown",
   "metadata": {},
   "source": [
    "Say we are concerned only with overlaps that (a) are exact matches (no differences allowed),\n",
    "and (b) are at least K bases long. To make an overlap graph, we could call \n",
    "overlap(a,b,min_length=k) on every possible pair of reads from the dataset.\n",
    "Unfortunately, that will be very slow!\n",
    "\n",
    "Consider this: Say we are using k=6, and we have a read A whose length-6 suffix is GTCCTA.\n",
    "Say GTCCTA does not occur in any other read in the dataset. In other words, the 6-mer GTCCTA\n",
    "occurs at the end of read A and nowhere else. It follows that A's suffix cannot possibly overlap\n",
    "the prefix of any other read by 6 or more characters.\n",
    "\n",
    "Put another way, if we want to find the overlaps involving a suffix of read A and a prefix of some other read,\n",
    "we can ignore any reads that don't contain the length-k suffix of A. This is good news because it can save us\n",
    "a lot of work!\n",
    "\n",
    "Here is a suggestion for how to implement this idea. You don't have to do it this way, but this might help you.\n",
    "Let every k-mer in the dataset have an associated Python Set object, which starts out empty.  We use a Python dictionary\n",
    "to associate each k-mer with its corresponding Set.\n",
    "\n",
    "1. For every k-mer in a read, we add the read\n",
    "to the Set object corresponding to that k-mer. If our read is GATTA and k=3, we would add GATTA to the Set objects\n",
    "for GAT, ATT and TTA. We do this for every read so that, at the end, each Set contains all reads containing\n",
    "the corresponding k-mer.\n",
    "2. Now, for each read A, we find all overlaps involving a suffix of A. To do this, we take A's length-k suffix,\n",
    "find all reads containing that k-mer (obtained from the corresponding Set) and call overlap(a,b,min_length=k)\n",
    "for each.\n",
    "\n",
    "The most important point is that we do not call overlap(a,b,min_length=k) if B does not contain\n",
    "the length-k suffix of A.\n",
    "\n",
    "Download and parse the read sequences from the provided Phi-X FASTQ file. We'll just use their base sequences,\n",
    "so you can ignore read names and base qualities. Also, no two reads in the FASTQ have the same sequence of bases.\n",
    "This makes things simpler.\n",
    "\n",
    "Next, find all pairs of reads with an exact suffix/prefix match of length at least 30. Don't overlap a read\n",
    "with itself; if a read has a suffix/prefix match to itself, ignore that match. Ignore reverse complements.\n",
    "* Hint 1: Your function should not take much more than 15 seconds to run on this 10,000-read dataset,\n",
    "and maybe much less than that. (Our solution takes about 3 seconds.) If your function is much slower,\n",
    "there is a problem somewhere.\n",
    "* Hint 2: Remember not to overlap a read with itself. If you do, your answers will be too high.\n",
    "* Hint 3: You can test your implementation by making up small examples, then checking that\n",
    "(a) your implementation runs quickly, and (b) you get the same answer as if you had simply called\n",
    "overlap(a,b,min_length=k) on every pair of reads.  We also have provided a couple\n",
    "[examples you can check against](https://nbviewer.jupyter.org/github/BenLangmead/ads1-hw-examples/blob/master/hw3_overlap_all.ipynb)."
   ]
  },
  {
   "cell_type": "code",
   "execution_count": 65,
   "metadata": {},
   "outputs": [
    {
     "name": "stdout",
     "output_type": "stream",
     "text": [
      "--2024-10-25 08:58:14--  https://d28rh4a8wq0iu5.cloudfront.net/ads1/data/ERR266411_1.for_asm.fastq\n",
      "Resolving d28rh4a8wq0iu5.cloudfront.net (d28rh4a8wq0iu5.cloudfront.net)... 99.86.66.118, 99.86.66.215, 99.86.66.61, ...\n",
      "Connecting to d28rh4a8wq0iu5.cloudfront.net (d28rh4a8wq0iu5.cloudfront.net)|99.86.66.118|:443... connected.\n",
      "HTTP request sent, awaiting response... 200 OK\n",
      "Length: 2562951 (2.4M) [application/octet-stream]\n",
      "Saving to: ‘resources/ERR266411_1.for_asm.fastq’\n",
      "\n",
      "ERR266411_1.for_asm 100%[===================>]   2.44M  2.97MB/s    in 0.8s    \n",
      "\n",
      "2024-10-25 08:58:16 (2.97 MB/s) - ‘resources/ERR266411_1.for_asm.fastq’ saved [2562951/2562951]\n",
      "\n"
     ]
    }
   ],
   "source": [
    "!wget -P resources/ https://d28rh4a8wq0iu5.cloudfront.net/ads1/data/ERR266411_1.for_asm.fastq"
   ]
  },
  {
   "cell_type": "code",
   "execution_count": 131,
   "metadata": {},
   "outputs": [],
   "source": [
    "from collections import defaultdict\n",
    "def overlap_all_pairs(reads, k):\n",
    "    k_dict = defaultdict(set)\n",
    "    for read in reads:\n",
    "        for kmer_st in range(len(read)-k + 1):\n",
    "            k_dict[read[kmer_st:kmer_st + k]].add(read)\n",
    "    ans = []\n",
    "    for read in reads:\n",
    "        for o in k_dict[read[-k:]]:\n",
    "            if o != read and overlap(read, o, k):\n",
    "                ans.append((read, o))\n",
    "\n",
    "    return ans\n",
    "    "
   ]
  },
  {
   "cell_type": "code",
   "execution_count": 132,
   "metadata": {},
   "outputs": [
    {
     "data": {
      "text/plain": [
       "[('ABCDEFG', 'EFGHIJ'), ('EFGHIJ', 'HIJABC'), ('HIJABC', 'ABCDEFG')]"
      ]
     },
     "execution_count": 132,
     "metadata": {},
     "output_type": "execute_result"
    }
   ],
   "source": [
    "reads= ['ABCDEFG', 'EFGHIJ', 'HIJABC']\n",
    "overlap_all_pairs(reads, 3)"
   ]
  },
  {
   "cell_type": "code",
   "execution_count": 133,
   "metadata": {},
   "outputs": [
    {
     "data": {
      "text/plain": [
       "[]"
      ]
     },
     "execution_count": 133,
     "metadata": {},
     "output_type": "execute_result"
    }
   ],
   "source": [
    "overlap_all_pairs(reads, 4)"
   ]
  },
  {
   "cell_type": "code",
   "execution_count": 134,
   "metadata": {},
   "outputs": [
    {
     "data": {
      "text/plain": [
       "[('CGTACG', 'GTACGA'),\n",
       " ('CGTACG', 'TACGTA'),\n",
       " ('CGTACG', 'TACGAT'),\n",
       " ('CGTACG', 'GTACGT'),\n",
       " ('TACGTA', 'ACGTAC'),\n",
       " ('TACGTA', 'CGTACG'),\n",
       " ('GTACGT', 'TACGTA'),\n",
       " ('GTACGT', 'ACGTAC'),\n",
       " ('ACGTAC', 'GTACGA'),\n",
       " ('ACGTAC', 'GTACGT'),\n",
       " ('ACGTAC', 'CGTACG'),\n",
       " ('GTACGA', 'TACGAT')]"
      ]
     },
     "execution_count": 134,
     "metadata": {},
     "output_type": "execute_result"
    }
   ],
   "source": [
    "reads = ['CGTACG', 'TACGTA', 'GTACGT', 'ACGTAC', 'GTACGA', 'TACGAT']\n",
    "overlap_all_pairs(reads, 4)"
   ]
  },
  {
   "cell_type": "code",
   "execution_count": 135,
   "metadata": {},
   "outputs": [],
   "source": [
    "reads, _ = readFastq('resources/ERR266411_1.for_asm.fastq')\n"
   ]
  },
  {
   "cell_type": "code",
   "execution_count": 136,
   "metadata": {},
   "outputs": [
    {
     "data": {
      "text/plain": [
       "904746"
      ]
     },
     "execution_count": 136,
     "metadata": {},
     "output_type": "execute_result"
    }
   ],
   "source": [
    "overlapped_pairs = overlap_all_pairs(reads, 30)\n",
    "len(overlapped_pairs)"
   ]
  },
  {
   "cell_type": "markdown",
   "metadata": {},
   "source": [
    "Q4. Picture the overlap graph corresponding to the overlaps computed for the previous question. How many nodes in this graph have at least one outgoing edge?  (In other words, how many reads have a suffix involved in an overlap?)"
   ]
  },
  {
   "cell_type": "code",
   "execution_count": 141,
   "metadata": {},
   "outputs": [
    {
     "data": {
      "text/plain": [
       "7161"
      ]
     },
     "execution_count": 141,
     "metadata": {},
     "output_type": "execute_result"
    }
   ],
   "source": [
    "\n",
    "len({x for x, _ in overlapped_pairs})"
   ]
  }
 ],
 "metadata": {
  "kernelspec": {
   "display_name": "coursera",
   "language": "python",
   "name": "python3"
  },
  "language_info": {
   "codemirror_mode": {
    "name": "ipython",
    "version": 3
   },
   "file_extension": ".py",
   "mimetype": "text/x-python",
   "name": "python",
   "nbconvert_exporter": "python",
   "pygments_lexer": "ipython3",
   "version": "3.10.15"
  }
 },
 "nbformat": 4,
 "nbformat_minor": 2
}
